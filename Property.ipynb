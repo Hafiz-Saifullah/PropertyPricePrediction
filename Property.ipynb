{
 "cells": [
  {
   "cell_type": "code",
   "execution_count": 316,
   "id": "482b3ce4",
   "metadata": {},
   "outputs": [
    {
     "data": {
      "text/html": [
       "<div>\n",
       "<style scoped>\n",
       "    .dataframe tbody tr th:only-of-type {\n",
       "        vertical-align: middle;\n",
       "    }\n",
       "\n",
       "    .dataframe tbody tr th {\n",
       "        vertical-align: top;\n",
       "    }\n",
       "\n",
       "    .dataframe thead th {\n",
       "        text-align: right;\n",
       "    }\n",
       "</style>\n",
       "<table border=\"1\" class=\"dataframe\">\n",
       "  <thead>\n",
       "    <tr style=\"text-align: right;\">\n",
       "      <th></th>\n",
       "      <th>property_id</th>\n",
       "      <th>location_id</th>\n",
       "      <th>page_url</th>\n",
       "      <th>property_type</th>\n",
       "      <th>price</th>\n",
       "      <th>location</th>\n",
       "      <th>city</th>\n",
       "      <th>province_name</th>\n",
       "      <th>latitude</th>\n",
       "      <th>longitude</th>\n",
       "      <th>baths</th>\n",
       "      <th>area</th>\n",
       "      <th>purpose</th>\n",
       "      <th>bedrooms</th>\n",
       "      <th>date_added</th>\n",
       "      <th>agency</th>\n",
       "      <th>agent</th>\n",
       "      <th>Area Type</th>\n",
       "      <th>Area Size</th>\n",
       "      <th>Area Category</th>\n",
       "    </tr>\n",
       "  </thead>\n",
       "  <tbody>\n",
       "    <tr>\n",
       "      <th>0</th>\n",
       "      <td>237062</td>\n",
       "      <td>3325</td>\n",
       "      <td>https://www.zameen.com/Property/g_10_g_10_2_gr...</td>\n",
       "      <td>Flat</td>\n",
       "      <td>10000000</td>\n",
       "      <td>G-10</td>\n",
       "      <td>Islamabad</td>\n",
       "      <td>Islamabad Capital</td>\n",
       "      <td>33.679890</td>\n",
       "      <td>73.012640</td>\n",
       "      <td>2</td>\n",
       "      <td>4 Marla</td>\n",
       "      <td>For Sale</td>\n",
       "      <td>2</td>\n",
       "      <td>02-04-2019</td>\n",
       "      <td>NaN</td>\n",
       "      <td>NaN</td>\n",
       "      <td>Marla</td>\n",
       "      <td>4.0</td>\n",
       "      <td>0-5 Marla</td>\n",
       "    </tr>\n",
       "    <tr>\n",
       "      <th>1</th>\n",
       "      <td>346905</td>\n",
       "      <td>3236</td>\n",
       "      <td>https://www.zameen.com/Property/e_11_2_service...</td>\n",
       "      <td>Flat</td>\n",
       "      <td>6900000</td>\n",
       "      <td>E-11</td>\n",
       "      <td>Islamabad</td>\n",
       "      <td>Islamabad Capital</td>\n",
       "      <td>33.700993</td>\n",
       "      <td>72.971492</td>\n",
       "      <td>3</td>\n",
       "      <td>5.6 Marla</td>\n",
       "      <td>For Sale</td>\n",
       "      <td>3</td>\n",
       "      <td>05-04-2019</td>\n",
       "      <td>NaN</td>\n",
       "      <td>NaN</td>\n",
       "      <td>Marla</td>\n",
       "      <td>5.6</td>\n",
       "      <td>5-10 Marla</td>\n",
       "    </tr>\n",
       "    <tr>\n",
       "      <th>2</th>\n",
       "      <td>386513</td>\n",
       "      <td>764</td>\n",
       "      <td>https://www.zameen.com/Property/islamabad_g_15...</td>\n",
       "      <td>House</td>\n",
       "      <td>16500000</td>\n",
       "      <td>G-15</td>\n",
       "      <td>Islamabad</td>\n",
       "      <td>Islamabad Capital</td>\n",
       "      <td>33.631486</td>\n",
       "      <td>72.926559</td>\n",
       "      <td>6</td>\n",
       "      <td>8 Marla</td>\n",
       "      <td>For Sale</td>\n",
       "      <td>5</td>\n",
       "      <td>07-17-2019</td>\n",
       "      <td>NaN</td>\n",
       "      <td>NaN</td>\n",
       "      <td>Marla</td>\n",
       "      <td>8.0</td>\n",
       "      <td>5-10 Marla</td>\n",
       "    </tr>\n",
       "    <tr>\n",
       "      <th>3</th>\n",
       "      <td>656161</td>\n",
       "      <td>340</td>\n",
       "      <td>https://www.zameen.com/Property/islamabad_bani...</td>\n",
       "      <td>House</td>\n",
       "      <td>43500000</td>\n",
       "      <td>Bani Gala</td>\n",
       "      <td>Islamabad</td>\n",
       "      <td>Islamabad Capital</td>\n",
       "      <td>33.707573</td>\n",
       "      <td>73.151199</td>\n",
       "      <td>4</td>\n",
       "      <td>2 Kanal</td>\n",
       "      <td>For Sale</td>\n",
       "      <td>4</td>\n",
       "      <td>04-05-2019</td>\n",
       "      <td>NaN</td>\n",
       "      <td>NaN</td>\n",
       "      <td>Kanal</td>\n",
       "      <td>2.0</td>\n",
       "      <td>1-5 Kanal</td>\n",
       "    </tr>\n",
       "    <tr>\n",
       "      <th>4</th>\n",
       "      <td>841645</td>\n",
       "      <td>3226</td>\n",
       "      <td>https://www.zameen.com/Property/dha_valley_dha...</td>\n",
       "      <td>House</td>\n",
       "      <td>7000000</td>\n",
       "      <td>DHA Defence</td>\n",
       "      <td>Islamabad</td>\n",
       "      <td>Islamabad Capital</td>\n",
       "      <td>33.492591</td>\n",
       "      <td>73.301339</td>\n",
       "      <td>3</td>\n",
       "      <td>8 Marla</td>\n",
       "      <td>For Sale</td>\n",
       "      <td>3</td>\n",
       "      <td>07-10-2019</td>\n",
       "      <td>Easy Property</td>\n",
       "      <td>Muhammad Junaid Ceo Muhammad Shahid Director</td>\n",
       "      <td>Marla</td>\n",
       "      <td>8.0</td>\n",
       "      <td>5-10 Marla</td>\n",
       "    </tr>\n",
       "    <tr>\n",
       "      <th>...</th>\n",
       "      <td>...</td>\n",
       "      <td>...</td>\n",
       "      <td>...</td>\n",
       "      <td>...</td>\n",
       "      <td>...</td>\n",
       "      <td>...</td>\n",
       "      <td>...</td>\n",
       "      <td>...</td>\n",
       "      <td>...</td>\n",
       "      <td>...</td>\n",
       "      <td>...</td>\n",
       "      <td>...</td>\n",
       "      <td>...</td>\n",
       "      <td>...</td>\n",
       "      <td>...</td>\n",
       "      <td>...</td>\n",
       "      <td>...</td>\n",
       "      <td>...</td>\n",
       "      <td>...</td>\n",
       "      <td>...</td>\n",
       "    </tr>\n",
       "    <tr>\n",
       "      <th>168441</th>\n",
       "      <td>17355248</td>\n",
       "      <td>6754</td>\n",
       "      <td>https://www.zameen.com/Property/gulshan_e_maym...</td>\n",
       "      <td>House</td>\n",
       "      <td>26500000</td>\n",
       "      <td>Gadap Town</td>\n",
       "      <td>Karachi</td>\n",
       "      <td>Sindh</td>\n",
       "      <td>25.029909</td>\n",
       "      <td>67.137192</td>\n",
       "      <td>0</td>\n",
       "      <td>9.6 Marla</td>\n",
       "      <td>For Sale</td>\n",
       "      <td>6</td>\n",
       "      <td>07-18-2019</td>\n",
       "      <td>Al Shahab Enterprises</td>\n",
       "      <td>Shahmir</td>\n",
       "      <td>Marla</td>\n",
       "      <td>9.6</td>\n",
       "      <td>5-10 Marla</td>\n",
       "    </tr>\n",
       "    <tr>\n",
       "      <th>168442</th>\n",
       "      <td>17355249</td>\n",
       "      <td>680</td>\n",
       "      <td>https://www.zameen.com/Property/gadap_town_gul...</td>\n",
       "      <td>House</td>\n",
       "      <td>12500000</td>\n",
       "      <td>Gadap Town</td>\n",
       "      <td>Karachi</td>\n",
       "      <td>Sindh</td>\n",
       "      <td>25.017951</td>\n",
       "      <td>67.136393</td>\n",
       "      <td>0</td>\n",
       "      <td>8 Marla</td>\n",
       "      <td>For Sale</td>\n",
       "      <td>3</td>\n",
       "      <td>07-18-2019</td>\n",
       "      <td>Al Shahab Enterprises</td>\n",
       "      <td>Shahmir</td>\n",
       "      <td>Marla</td>\n",
       "      <td>8.0</td>\n",
       "      <td>5-10 Marla</td>\n",
       "    </tr>\n",
       "    <tr>\n",
       "      <th>168443</th>\n",
       "      <td>17355250</td>\n",
       "      <td>6757</td>\n",
       "      <td>https://www.zameen.com/Property/gulshan_e_maym...</td>\n",
       "      <td>House</td>\n",
       "      <td>27000000</td>\n",
       "      <td>Gadap Town</td>\n",
       "      <td>Karachi</td>\n",
       "      <td>Sindh</td>\n",
       "      <td>25.015384</td>\n",
       "      <td>67.116330</td>\n",
       "      <td>0</td>\n",
       "      <td>9.6 Marla</td>\n",
       "      <td>For Sale</td>\n",
       "      <td>6</td>\n",
       "      <td>07-18-2019</td>\n",
       "      <td>Al Shahab Enterprises</td>\n",
       "      <td>Shahmir</td>\n",
       "      <td>Marla</td>\n",
       "      <td>9.6</td>\n",
       "      <td>5-10 Marla</td>\n",
       "    </tr>\n",
       "    <tr>\n",
       "      <th>168444</th>\n",
       "      <td>17355251</td>\n",
       "      <td>6752</td>\n",
       "      <td>https://www.zameen.com/Property/gulshan_e_maym...</td>\n",
       "      <td>House</td>\n",
       "      <td>11000000</td>\n",
       "      <td>Gadap Town</td>\n",
       "      <td>Karachi</td>\n",
       "      <td>Sindh</td>\n",
       "      <td>25.013265</td>\n",
       "      <td>67.120818</td>\n",
       "      <td>0</td>\n",
       "      <td>7.8 Marla</td>\n",
       "      <td>For Sale</td>\n",
       "      <td>3</td>\n",
       "      <td>07-18-2019</td>\n",
       "      <td>Al Shahab Enterprises</td>\n",
       "      <td>Shahmir</td>\n",
       "      <td>Marla</td>\n",
       "      <td>7.8</td>\n",
       "      <td>5-10 Marla</td>\n",
       "    </tr>\n",
       "    <tr>\n",
       "      <th>168445</th>\n",
       "      <td>17355287</td>\n",
       "      <td>10045</td>\n",
       "      <td>https://www.zameen.com/Property/bahria_town_ka...</td>\n",
       "      <td>House</td>\n",
       "      <td>9000000</td>\n",
       "      <td>Bahria Town Karachi</td>\n",
       "      <td>Karachi</td>\n",
       "      <td>Sindh</td>\n",
       "      <td>25.113565</td>\n",
       "      <td>67.353811</td>\n",
       "      <td>3</td>\n",
       "      <td>9.4 Marla</td>\n",
       "      <td>For Sale</td>\n",
       "      <td>3</td>\n",
       "      <td>07-18-2019</td>\n",
       "      <td>ZPN Real Estate &amp; Builders</td>\n",
       "      <td>Ali Raza</td>\n",
       "      <td>Marla</td>\n",
       "      <td>9.4</td>\n",
       "      <td>5-10 Marla</td>\n",
       "    </tr>\n",
       "  </tbody>\n",
       "</table>\n",
       "<p>168446 rows × 20 columns</p>\n",
       "</div>"
      ],
      "text/plain": [
       "        property_id  location_id  \\\n",
       "0            237062         3325   \n",
       "1            346905         3236   \n",
       "2            386513          764   \n",
       "3            656161          340   \n",
       "4            841645         3226   \n",
       "...             ...          ...   \n",
       "168441     17355248         6754   \n",
       "168442     17355249          680   \n",
       "168443     17355250         6757   \n",
       "168444     17355251         6752   \n",
       "168445     17355287        10045   \n",
       "\n",
       "                                                 page_url property_type  \\\n",
       "0       https://www.zameen.com/Property/g_10_g_10_2_gr...          Flat   \n",
       "1       https://www.zameen.com/Property/e_11_2_service...          Flat   \n",
       "2       https://www.zameen.com/Property/islamabad_g_15...         House   \n",
       "3       https://www.zameen.com/Property/islamabad_bani...         House   \n",
       "4       https://www.zameen.com/Property/dha_valley_dha...         House   \n",
       "...                                                   ...           ...   \n",
       "168441  https://www.zameen.com/Property/gulshan_e_maym...         House   \n",
       "168442  https://www.zameen.com/Property/gadap_town_gul...         House   \n",
       "168443  https://www.zameen.com/Property/gulshan_e_maym...         House   \n",
       "168444  https://www.zameen.com/Property/gulshan_e_maym...         House   \n",
       "168445  https://www.zameen.com/Property/bahria_town_ka...         House   \n",
       "\n",
       "           price             location       city      province_name  \\\n",
       "0       10000000                 G-10  Islamabad  Islamabad Capital   \n",
       "1        6900000                 E-11  Islamabad  Islamabad Capital   \n",
       "2       16500000                 G-15  Islamabad  Islamabad Capital   \n",
       "3       43500000            Bani Gala  Islamabad  Islamabad Capital   \n",
       "4        7000000          DHA Defence  Islamabad  Islamabad Capital   \n",
       "...          ...                  ...        ...                ...   \n",
       "168441  26500000           Gadap Town    Karachi              Sindh   \n",
       "168442  12500000           Gadap Town    Karachi              Sindh   \n",
       "168443  27000000           Gadap Town    Karachi              Sindh   \n",
       "168444  11000000           Gadap Town    Karachi              Sindh   \n",
       "168445   9000000  Bahria Town Karachi    Karachi              Sindh   \n",
       "\n",
       "         latitude  longitude  baths       area   purpose  bedrooms  \\\n",
       "0       33.679890  73.012640      2    4 Marla  For Sale         2   \n",
       "1       33.700993  72.971492      3  5.6 Marla  For Sale         3   \n",
       "2       33.631486  72.926559      6    8 Marla  For Sale         5   \n",
       "3       33.707573  73.151199      4    2 Kanal  For Sale         4   \n",
       "4       33.492591  73.301339      3    8 Marla  For Sale         3   \n",
       "...           ...        ...    ...        ...       ...       ...   \n",
       "168441  25.029909  67.137192      0  9.6 Marla  For Sale         6   \n",
       "168442  25.017951  67.136393      0    8 Marla  For Sale         3   \n",
       "168443  25.015384  67.116330      0  9.6 Marla  For Sale         6   \n",
       "168444  25.013265  67.120818      0  7.8 Marla  For Sale         3   \n",
       "168445  25.113565  67.353811      3  9.4 Marla  For Sale         3   \n",
       "\n",
       "        date_added                      agency  \\\n",
       "0       02-04-2019                         NaN   \n",
       "1       05-04-2019                         NaN   \n",
       "2       07-17-2019                         NaN   \n",
       "3       04-05-2019                         NaN   \n",
       "4       07-10-2019               Easy Property   \n",
       "...            ...                         ...   \n",
       "168441  07-18-2019       Al Shahab Enterprises   \n",
       "168442  07-18-2019       Al Shahab Enterprises   \n",
       "168443  07-18-2019       Al Shahab Enterprises   \n",
       "168444  07-18-2019       Al Shahab Enterprises   \n",
       "168445  07-18-2019  ZPN Real Estate & Builders   \n",
       "\n",
       "                                               agent Area Type  Area Size  \\\n",
       "0                                                NaN     Marla        4.0   \n",
       "1                                                NaN     Marla        5.6   \n",
       "2                                                NaN     Marla        8.0   \n",
       "3                                                NaN     Kanal        2.0   \n",
       "4       Muhammad Junaid Ceo Muhammad Shahid Director     Marla        8.0   \n",
       "...                                              ...       ...        ...   \n",
       "168441                                       Shahmir     Marla        9.6   \n",
       "168442                                       Shahmir     Marla        8.0   \n",
       "168443                                       Shahmir     Marla        9.6   \n",
       "168444                                       Shahmir     Marla        7.8   \n",
       "168445                                      Ali Raza     Marla        9.4   \n",
       "\n",
       "       Area Category  \n",
       "0          0-5 Marla  \n",
       "1         5-10 Marla  \n",
       "2         5-10 Marla  \n",
       "3          1-5 Kanal  \n",
       "4         5-10 Marla  \n",
       "...              ...  \n",
       "168441    5-10 Marla  \n",
       "168442    5-10 Marla  \n",
       "168443    5-10 Marla  \n",
       "168444    5-10 Marla  \n",
       "168445    5-10 Marla  \n",
       "\n",
       "[168446 rows x 20 columns]"
      ]
     },
     "execution_count": 316,
     "metadata": {},
     "output_type": "execute_result"
    }
   ],
   "source": [
    "import pandas as pd\n",
    "\n",
    "df = pd.read_csv('C://Users/Hafiz Saifullah/Documents/Datasets/zameen.csv')\n",
    "df"
   ]
  },
  {
   "cell_type": "code",
   "execution_count": 317,
   "id": "247b3fc9",
   "metadata": {},
   "outputs": [
    {
     "name": "stdout",
     "output_type": "stream",
     "text": [
      "<class 'pandas.core.frame.DataFrame'>\n",
      "RangeIndex: 168446 entries, 0 to 168445\n",
      "Data columns (total 20 columns):\n",
      " #   Column         Non-Null Count   Dtype  \n",
      "---  ------         --------------   -----  \n",
      " 0   property_id    168446 non-null  int64  \n",
      " 1   location_id    168446 non-null  int64  \n",
      " 2   page_url       168446 non-null  object \n",
      " 3   property_type  168446 non-null  object \n",
      " 4   price          168446 non-null  int64  \n",
      " 5   location       168446 non-null  object \n",
      " 6   city           168446 non-null  object \n",
      " 7   province_name  168446 non-null  object \n",
      " 8   latitude       168446 non-null  float64\n",
      " 9   longitude      168446 non-null  float64\n",
      " 10  baths          168446 non-null  int64  \n",
      " 11  area           168446 non-null  object \n",
      " 12  purpose        168446 non-null  object \n",
      " 13  bedrooms       168446 non-null  int64  \n",
      " 14  date_added     168446 non-null  object \n",
      " 15  agency         124375 non-null  object \n",
      " 16  agent          124374 non-null  object \n",
      " 17  Area Type      168446 non-null  object \n",
      " 18  Area Size      168446 non-null  float64\n",
      " 19  Area Category  168446 non-null  object \n",
      "dtypes: float64(3), int64(5), object(12)\n",
      "memory usage: 25.7+ MB\n"
     ]
    }
   ],
   "source": [
    "df.info()"
   ]
  },
  {
   "cell_type": "markdown",
   "id": "a9be99f7",
   "metadata": {},
   "source": [
    "# Unique values of Catagorical columns"
   ]
  },
  {
   "cell_type": "code",
   "execution_count": 318,
   "id": "ccb5f56f",
   "metadata": {},
   "outputs": [
    {
     "data": {
      "text/plain": [
       "array(['https://www.zameen.com/Property/g_10_g_10_2_ground_floor_corner_apartment_with_green_lawn_for_sale-237062-3325-1.html',\n",
       "       'https://www.zameen.com/Property/e_11_2_services_society_flat_available_for_sale-346905-3236-1.html',\n",
       "       'https://www.zameen.com/Property/islamabad_g_15_house_is_available_for_sale-386513-764-1.html',\n",
       "       ...,\n",
       "       'https://www.zameen.com/Property/gulshan_e_maymar_gulshan_e_maymar_sector_u_ground_1st_floor_house_is_available_for_sale-17355250-6757-1.html',\n",
       "       'https://www.zameen.com/Property/gulshan_e_maymar_gulshan_e_maymar_sector_p_1st_floor_flat_is_available_for_sale-17355251-6752-1.html',\n",
       "       'https://www.zameen.com/Property/bahria_town_karachi_bahria_town_precinct_31_good_location_luxurious_villa_for_sale_in_precicnt_31_of_bahria_town_karachi-17355287-10045-1.html'],\n",
       "      dtype=object)"
      ]
     },
     "execution_count": 318,
     "metadata": {},
     "output_type": "execute_result"
    }
   ],
   "source": [
    "df.page_url.unique()"
   ]
  },
  {
   "cell_type": "code",
   "execution_count": 319,
   "id": "80abdcfd",
   "metadata": {},
   "outputs": [
    {
     "data": {
      "text/plain": [
       "168446"
      ]
     },
     "execution_count": 319,
     "metadata": {},
     "output_type": "execute_result"
    }
   ],
   "source": [
    "len(df.page_url.unique())"
   ]
  },
  {
   "cell_type": "code",
   "execution_count": 320,
   "id": "63b8f689",
   "metadata": {},
   "outputs": [
    {
     "data": {
      "text/plain": [
       "array(['Flat', 'House', 'Penthouse', 'Farm House', 'Lower Portion',\n",
       "       'Upper Portion', 'Room'], dtype=object)"
      ]
     },
     "execution_count": 320,
     "metadata": {},
     "output_type": "execute_result"
    }
   ],
   "source": [
    "df.property_type.unique()"
   ]
  },
  {
   "cell_type": "code",
   "execution_count": 321,
   "id": "124f860c",
   "metadata": {},
   "outputs": [
    {
     "data": {
      "text/plain": [
       "7"
      ]
     },
     "execution_count": 321,
     "metadata": {},
     "output_type": "execute_result"
    }
   ],
   "source": [
    "len(df.property_type.unique())"
   ]
  },
  {
   "cell_type": "code",
   "execution_count": 322,
   "id": "200c212b",
   "metadata": {},
   "outputs": [
    {
     "data": {
      "text/plain": [
       "array(['G-10', 'E-11', 'G-15', ..., 'Samanzar Colony', 'Shahra-e-Liaquat',\n",
       "       'Sundar'], dtype=object)"
      ]
     },
     "execution_count": 322,
     "metadata": {},
     "output_type": "execute_result"
    }
   ],
   "source": [
    "df.location.unique()"
   ]
  },
  {
   "cell_type": "code",
   "execution_count": 323,
   "id": "fd42cdf1",
   "metadata": {},
   "outputs": [
    {
     "data": {
      "text/plain": [
       "1509"
      ]
     },
     "execution_count": 323,
     "metadata": {},
     "output_type": "execute_result"
    }
   ],
   "source": [
    "len(df.location.unique())"
   ]
  },
  {
   "cell_type": "code",
   "execution_count": 324,
   "id": "e70f18f5",
   "metadata": {},
   "outputs": [
    {
     "data": {
      "text/plain": [
       "array(['Islamabad', 'Lahore', 'Faisalabad', 'Rawalpindi', 'Karachi'],\n",
       "      dtype=object)"
      ]
     },
     "execution_count": 324,
     "metadata": {},
     "output_type": "execute_result"
    }
   ],
   "source": [
    "df.city.unique()"
   ]
  },
  {
   "cell_type": "code",
   "execution_count": 325,
   "id": "27562f98",
   "metadata": {},
   "outputs": [
    {
     "data": {
      "text/plain": [
       "5"
      ]
     },
     "execution_count": 325,
     "metadata": {},
     "output_type": "execute_result"
    }
   ],
   "source": [
    "len(df.city.unique())"
   ]
  },
  {
   "cell_type": "code",
   "execution_count": 326,
   "id": "8be31769",
   "metadata": {},
   "outputs": [
    {
     "data": {
      "text/plain": [
       "array(['Islamabad Capital', 'Punjab', 'Sindh'], dtype=object)"
      ]
     },
     "execution_count": 326,
     "metadata": {},
     "output_type": "execute_result"
    }
   ],
   "source": [
    "df.province_name.unique()"
   ]
  },
  {
   "cell_type": "code",
   "execution_count": 327,
   "id": "38b8190d",
   "metadata": {},
   "outputs": [
    {
     "data": {
      "text/plain": [
       "3"
      ]
     },
     "execution_count": 327,
     "metadata": {},
     "output_type": "execute_result"
    }
   ],
   "source": [
    "len(df.province_name.unique())"
   ]
  },
  {
   "cell_type": "code",
   "execution_count": 328,
   "id": "3847fc54",
   "metadata": {},
   "outputs": [
    {
     "data": {
      "text/plain": [
       "array(['4 Marla', '5.6 Marla', '8 Marla', '2 Kanal', '1.6 Kanal',\n",
       "       '1 Kanal', '6.2 Marla', '7.1 Marla', '7.8 Marla', '4.5 Kanal',\n",
       "       '10 Marla', '3.1 Marla', '1.5 Marla', '14 Marla', '5 Marla',\n",
       "       '6 Kanal', '8.4 Marla', '4.7 Marla', '12 Marla', '4.3 Marla',\n",
       "       '17.8 Marla', '6.7 Marla', '5.3 Marla', '2.1 Kanal', '2.5 Kanal',\n",
       "       '1.2 Kanal', '13.3 Marla', '2.4 Kanal', '16 Marla', '9.3 Marla',\n",
       "       '9 Marla', '11 Marla', '7.5 Marla', '18 Marla', '3 Marla',\n",
       "       '6.5 Kanal', '2.5 Marla', '8 Kanal', '1.1 Kanal', '6 Marla',\n",
       "       '4.7 Kanal', '9.7 Marla', '7 Marla', '3.8 Marla', '5.5 Marla',\n",
       "       '1.5 Kanal', '2.4 Marla', '4.4 Marla', '2.2 Marla', '4 Kanal',\n",
       "       '8.9 Marla', '3.2 Marla', '9.6 Marla', '9.8 Marla', '10.2 Marla',\n",
       "       '11.4 Marla', '13.1 Marla', '4.8 Marla', '7.6 Marla', '5.4 Marla',\n",
       "       '13.4 Marla', '13.2 Marla', '5.2 Marla', '1.3 Marla', '6.1 Marla',\n",
       "       '9.1 Marla', '11.5 Marla', '1.1 Marla', '10.9 Marla', '3.7 Marla',\n",
       "       '4.2 Marla', '5.8 Marla', '1.3 Kanal', '10.1 Marla', '17 Marla',\n",
       "       '2 Marla', '8.2 Marla', '10 Kanal', '11.7 Marla', '10.7 Marla',\n",
       "       '3 Kanal', '10.6 Marla', '11.2 Marla', '4.8 Kanal', '1.7 Kanal',\n",
       "       '6.9 Marla', '6.6 Marla', '2.9 Marla', '11.1 Marla', '3.6 Marla',\n",
       "       '4.1 Marla', '16.4 Marla', '4.4 Kanal', '15 Marla', '5 Kanal',\n",
       "       '13 Marla', '1.4 Kanal', '15.8 Marla', '12.2 Marla', '10.3 Marla',\n",
       "       '17.5 Kanal', '5.1 Marla', '8.8 Marla', '3.4 Marla', '18.2 Marla',\n",
       "       '11.8 Marla', '3.3 Marla', '4.9 Marla', '13.6 Marla', '0.9 Marla',\n",
       "       '20 Marla', '14.7 Marla', '2.3 Kanal', '18.4 Marla', '7.3 Marla',\n",
       "       '8.1 Marla', '2.8 Marla', '1.8 Kanal', '12.5 Marla', '1.9 Marla',\n",
       "       '11.6 Marla', '3.8 Kanal', '3.6 Kanal', '14.2 Marla', '12.4 Marla',\n",
       "       '1 Marla', '2.2 Kanal', '6.4 Marla', '5.7 Marla', '1.8 Marla',\n",
       "       '2.7 Kanal', '1.6 Marla', '3.9 Marla', '3.5 Marla', '1.9 Kanal',\n",
       "       '2.7 Marla', '6.5 Marla', '15.2 Marla', '5.9 Marla', '8.7 Marla',\n",
       "       '19.1 Marla', '1.2 Marla', '10.4 Marla', '15.9 Marla', '6.3 Marla',\n",
       "       '13.8 Marla', '8.6 Marla', '19 Marla', '4.5 Marla', '15.3 Marla',\n",
       "       '2.6 Marla', '6.8 Marla', '8.3 Marla', '17.3 Marla', '4.3 Kanal',\n",
       "       '10.8 Marla', '1.7 Marla', '16.8 Marla', '7.9 Marla', '4.6 Marla',\n",
       "       '13.7 Marla', '12.6 Marla', '9.2 Marla', '13.5 Marla', '7 Kanal',\n",
       "       '7.2 Marla', '0.4 Marla', '10.5 Marla', '15.6 Marla', '8.5 Marla',\n",
       "       '7.4 Marla', '20 Kanal', '12.1 Marla', '18.7 Marla', '9.5 Marla',\n",
       "       '16.2 Marla', '9.4 Marla', '2.1 Marla', '15.1 Marla', '1.4 Marla',\n",
       "       '2.6 Kanal', '32 Kanal', '12.8 Marla', '0.6 Marla', '0.8 Marla',\n",
       "       '0.5 Marla', '3.3 Kanal', '15.4 Marla', '14.3 Marla', '18.1 Marla',\n",
       "       '14.4 Marla', '17.7 Marla', '15.5 Marla', '2.3 Marla', '100 Kanal',\n",
       "       '17.2 Marla', '3.4 Kanal', '12.3 Marla', '5.8 Kanal', '9.9 Marla',\n",
       "       '3.5 Kanal', '14.8 Marla', '0.2 Marla', '416 Kanal', '19.2 Marla',\n",
       "       '0.3 Marla', '14.6 Marla', '16.3 Marla', '14 Kanal', '11.3 Marla',\n",
       "       '16.6 Marla', '17.5 Marla', '7.7 Marla', '16.7 Marla',\n",
       "       '17.1 Marla', '40 Kanal', '3.2 Kanal', '17.6 Marla', '0.7 Marla',\n",
       "       '16.9 Marla', '12.7 Marla', '18.6 Marla', '18 Kanal', '7.5 Kanal',\n",
       "       '33 Kanal', '6.4 Kanal', '62.5 Kanal', '5.4 Kanal', '12.9 Marla',\n",
       "       '18.3 Marla', '19.8 Marla', '28 Kanal', '18.8 Marla', '13.9 Marla',\n",
       "       '16 Kanal', '14.5 Marla', '52 Kanal', '12 Kanal', '72 Kanal',\n",
       "       '30 Kanal', '9.7 Kanal', '33.3 Kanal', '11.9 Marla', '17 Kanal',\n",
       "       '9 Kanal', '19.7 Marla', '2.8 Kanal', '4.2 Kanal', '23 Kanal',\n",
       "       '27 Kanal', '7.8 Kanal', '14.5 Kanal', '17.4 Marla', '8.7 Kanal',\n",
       "       '12.5 Kanal', '0 Marla', '500 Kanal', '14.1 Marla', '29 Kanal',\n",
       "       '2.9 Kanal', '15.7 Marla', '16.5 Marla', '6.2 Kanal', '19.5 Marla',\n",
       "       '15 Kanal', '5.5 Kanal', '5.2 Kanal', '7.6 Kanal', '25 Kanal',\n",
       "       '50 Kanal', '19.6 Marla', '3.1 Kanal', '0.1 Marla', '168 Kanal',\n",
       "       '90 Kanal', '19.4 Marla', '8.8 Kanal', '14.4 Kanal', '8.5 Kanal',\n",
       "       '22 Kanal', '18.9 Marla', '4.6 Kanal', '24 Kanal', '3.9 Kanal',\n",
       "       '11 Kanal', '14.9 Marla', '4.1 Kanal', '17.9 Marla', '18.5 Marla',\n",
       "       '46 Kanal', '6.1 Kanal', '10.5 Kanal', '9.6 Kanal', '13 Kanal',\n",
       "       '600 Kanal', '26 Kanal', '19.3 Marla', '8.1 Kanal', '300 Kanal',\n",
       "       '7.3 Kanal', '19.9 Marla', '19.2 Kanal', '25.5 Kanal', '64 Kanal',\n",
       "       '41 Kanal', '19.4 Kanal', '11.2 Kanal', '5.6 Kanal', '19 Kanal',\n",
       "       '4,450 Kanal', '64.1 Kanal', '36 Kanal', '21.3 Kanal', '85 Kanal',\n",
       "       '7.1 Kanal', '3.7 Kanal', '9.4 Kanal', '61.7 Kanal', '8.6 Kanal',\n",
       "       '9.5 Kanal', '4,500 Kanal', '650 Kanal', '35 Kanal', '47.5 Kanal',\n",
       "       '6.6 Kanal', '7.4 Kanal', '65 Kanal', '45 Kanal', '32.5 Kanal',\n",
       "       '23.5 Kanal', '105 Kanal', '2,250 Kanal', '1,000 Kanal',\n",
       "       '1,722.2 Kanal', '115.1 Kanal', '28.8 Kanal', '39.3 Kanal',\n",
       "       '255 Kanal', '5.1 Kanal', '9.1 Kanal', '80 Kanal', '6,222.2 Kanal',\n",
       "       '800 Kanal', '5.9 Kanal'], dtype=object)"
      ]
     },
     "execution_count": 328,
     "metadata": {},
     "output_type": "execute_result"
    }
   ],
   "source": [
    "df.area.unique()"
   ]
  },
  {
   "cell_type": "code",
   "execution_count": 329,
   "id": "0595ba4e",
   "metadata": {},
   "outputs": [
    {
     "data": {
      "text/plain": [
       "344"
      ]
     },
     "execution_count": 329,
     "metadata": {},
     "output_type": "execute_result"
    }
   ],
   "source": [
    "len(df.area.unique())"
   ]
  },
  {
   "cell_type": "code",
   "execution_count": 330,
   "id": "5a29a4bd",
   "metadata": {},
   "outputs": [
    {
     "data": {
      "text/plain": [
       "array(['For Sale', 'For Rent'], dtype=object)"
      ]
     },
     "execution_count": 330,
     "metadata": {},
     "output_type": "execute_result"
    }
   ],
   "source": [
    "df.purpose.unique()"
   ]
  },
  {
   "cell_type": "code",
   "execution_count": 331,
   "id": "34f8ebd4",
   "metadata": {},
   "outputs": [
    {
     "data": {
      "text/plain": [
       "array(['02-04-2019', '05-04-2019', '07-17-2019', '04-05-2019',\n",
       "       '07-10-2019', '01-04-2019', '05-05-2019', '10-19-2018',\n",
       "       '06-27-2019', '06-03-2019', '07-04-2019', '06-04-2019',\n",
       "       '07-03-2019', '06-20-2019', '07-16-2019', '06-13-2019',\n",
       "       '03-06-2019', '01-05-2019', '06-29-2019', '11-06-2018',\n",
       "       '06-12-2019', '10-20-2018', '07-11-2019', '10-06-2018',\n",
       "       '04-04-2019', '06-02-2019', '06-30-2019', '06-18-2019',\n",
       "       '06-11-2019', '12-05-2018', '04-03-2019', '05-03-2019',\n",
       "       '02-03-2019', '03-05-2019', '02-01-2019', '06-19-2019',\n",
       "       '02-17-2019', '07-05-2019', '01-18-2019', '07-15-2019',\n",
       "       '07-01-2019', '03-19-2019', '06-21-2019', '05-06-2019',\n",
       "       '07-08-2019', '07-18-2019', '03-10-2019', '06-05-2019',\n",
       "       '06-14-2019', '02-16-2019', '11-19-2018', '06-07-2019',\n",
       "       '03-18-2019', '08-22-2018', '02-18-2019', '04-19-2019',\n",
       "       '06-26-2019', '07-02-2019', '06-28-2019', '06-25-2019',\n",
       "       '11-05-2018', '08-08-2018', '12-06-2018', '04-06-2019',\n",
       "       '01-09-2019', '04-18-2019', '09-07-2018', '01-17-2019',\n",
       "       '04-09-2019', '09-21-2018', '05-18-2019', '05-19-2019',\n",
       "       '10-07-2018', '06-16-2019', '05-09-2019', '07-14-2019',\n",
       "       '06-17-2019', '12-03-2018', '03-04-2019', '07-13-2019',\n",
       "       '09-20-2018', '08-21-2018', '04-17-2019', '08-07-2018',\n",
       "       '03-20-2019', '08-20-2018', '07-12-2019', '07-09-2019',\n",
       "       '09-06-2018', '11-18-2018', '12-20-2018', '12-19-2018',\n",
       "       '09-19-2018', '12-18-2018', '10-21-2018', '05-17-2019',\n",
       "       '06-01-2019', '11-10-2018', '11-03-2018', '10-05-2018',\n",
       "       '11-20-2018', '06-06-2019', '02-02-2019', '08-06-2018',\n",
       "       '08-05-2018', '08-09-2018', '05-02-2019', '09-08-2018',\n",
       "       '09-04-2018', '09-05-2018', '10-08-2018', '04-02-2019',\n",
       "       '10-04-2018', '03-03-2019', '12-10-2018', '11-07-2018',\n",
       "       '06-10-2019', '12-07-2018', '01-19-2019', '01-06-2019',\n",
       "       '06-24-2019', '02-05-2019', '01-03-2019', '03-07-2019'],\n",
       "      dtype=object)"
      ]
     },
     "execution_count": 331,
     "metadata": {},
     "output_type": "execute_result"
    }
   ],
   "source": [
    "df.date_added.unique()"
   ]
  },
  {
   "cell_type": "code",
   "execution_count": 332,
   "id": "8d5f0c90",
   "metadata": {},
   "outputs": [
    {
     "data": {
      "text/plain": [
       "124"
      ]
     },
     "execution_count": 332,
     "metadata": {},
     "output_type": "execute_result"
    }
   ],
   "source": [
    "len(df.date_added.unique())"
   ]
  },
  {
   "cell_type": "code",
   "execution_count": 333,
   "id": "5d9a0991",
   "metadata": {},
   "outputs": [
    {
     "data": {
      "text/plain": [
       "array([nan, 'Easy Property', 'Ettemad Enterprises', ...,\n",
       "       'Al Jeddah Estate Agency', 'Land Shark',\n",
       "       'Al Barka Property Consultant'], dtype=object)"
      ]
     },
     "execution_count": 333,
     "metadata": {},
     "output_type": "execute_result"
    }
   ],
   "source": [
    "df.agency.unique()"
   ]
  },
  {
   "cell_type": "code",
   "execution_count": 334,
   "id": "875becf0",
   "metadata": {},
   "outputs": [
    {
     "data": {
      "text/plain": [
       "5762"
      ]
     },
     "execution_count": 334,
     "metadata": {},
     "output_type": "execute_result"
    }
   ],
   "source": [
    "len(df.agency.unique())"
   ]
  },
  {
   "cell_type": "code",
   "execution_count": 335,
   "id": "06724b6f",
   "metadata": {},
   "outputs": [
    {
     "data": {
      "text/plain": [
       "10599"
      ]
     },
     "execution_count": 335,
     "metadata": {},
     "output_type": "execute_result"
    }
   ],
   "source": [
    "len(df.agent.unique())"
   ]
  },
  {
   "cell_type": "code",
   "execution_count": 336,
   "id": "8f00ab09",
   "metadata": {},
   "outputs": [
    {
     "data": {
      "text/plain": [
       "array(['Marla', 'Kanal'], dtype=object)"
      ]
     },
     "execution_count": 336,
     "metadata": {},
     "output_type": "execute_result"
    }
   ],
   "source": [
    "df['Area Type'].unique()"
   ]
  },
  {
   "cell_type": "code",
   "execution_count": 337,
   "id": "da99d3f9",
   "metadata": {},
   "outputs": [
    {
     "data": {
      "text/plain": [
       "array(['0-5 Marla', '5-10 Marla', '1-5 Kanal', '10-15 Marla',\n",
       "       '5-10 Kanal', '15-20 Marla', '15-20 Kanal', '30-40 Kanal',\n",
       "       '90-100 Kanal', '400-500 Kanal', '10-15 Kanal', '60-70 Kanal',\n",
       "       '20-30 Kanal', '50-60 Kanal', '70-80 Kanal', '40-50 Kanal',\n",
       "       '100-200 Kanal', '80-90 Kanal', '500-600 Kanal', '200-300 Kanal',\n",
       "       '600-700 Kanal', '700-800 Kanal'], dtype=object)"
      ]
     },
     "execution_count": 337,
     "metadata": {},
     "output_type": "execute_result"
    }
   ],
   "source": [
    "df['Area Category'].unique()"
   ]
  },
  {
   "cell_type": "code",
   "execution_count": 338,
   "id": "450dd4cb",
   "metadata": {},
   "outputs": [
    {
     "data": {
      "text/plain": [
       "22"
      ]
     },
     "execution_count": 338,
     "metadata": {},
     "output_type": "execute_result"
    }
   ],
   "source": [
    "len(df['Area Category'].unique())"
   ]
  },
  {
   "cell_type": "markdown",
   "id": "eeaa994f",
   "metadata": {},
   "source": [
    "# Drop categorical columns with many unique values"
   ]
  },
  {
   "cell_type": "code",
   "execution_count": 339,
   "id": "28677751",
   "metadata": {},
   "outputs": [],
   "source": [
    "col_drop = ['page_url', 'location', 'area', 'date_added', 'agency', 'agent', 'Area Type', 'Area Category']"
   ]
  },
  {
   "cell_type": "code",
   "execution_count": 340,
   "id": "d3e05516",
   "metadata": {},
   "outputs": [],
   "source": [
    "df.drop(columns = col_drop, inplace = True)"
   ]
  },
  {
   "cell_type": "code",
   "execution_count": 341,
   "id": "f7d6283c",
   "metadata": {},
   "outputs": [
    {
     "data": {
      "text/html": [
       "<div>\n",
       "<style scoped>\n",
       "    .dataframe tbody tr th:only-of-type {\n",
       "        vertical-align: middle;\n",
       "    }\n",
       "\n",
       "    .dataframe tbody tr th {\n",
       "        vertical-align: top;\n",
       "    }\n",
       "\n",
       "    .dataframe thead th {\n",
       "        text-align: right;\n",
       "    }\n",
       "</style>\n",
       "<table border=\"1\" class=\"dataframe\">\n",
       "  <thead>\n",
       "    <tr style=\"text-align: right;\">\n",
       "      <th></th>\n",
       "      <th>property_id</th>\n",
       "      <th>location_id</th>\n",
       "      <th>property_type</th>\n",
       "      <th>price</th>\n",
       "      <th>city</th>\n",
       "      <th>province_name</th>\n",
       "      <th>latitude</th>\n",
       "      <th>longitude</th>\n",
       "      <th>baths</th>\n",
       "      <th>purpose</th>\n",
       "      <th>bedrooms</th>\n",
       "      <th>Area Size</th>\n",
       "    </tr>\n",
       "  </thead>\n",
       "  <tbody>\n",
       "    <tr>\n",
       "      <th>0</th>\n",
       "      <td>237062</td>\n",
       "      <td>3325</td>\n",
       "      <td>Flat</td>\n",
       "      <td>10000000</td>\n",
       "      <td>Islamabad</td>\n",
       "      <td>Islamabad Capital</td>\n",
       "      <td>33.679890</td>\n",
       "      <td>73.012640</td>\n",
       "      <td>2</td>\n",
       "      <td>For Sale</td>\n",
       "      <td>2</td>\n",
       "      <td>4.0</td>\n",
       "    </tr>\n",
       "    <tr>\n",
       "      <th>1</th>\n",
       "      <td>346905</td>\n",
       "      <td>3236</td>\n",
       "      <td>Flat</td>\n",
       "      <td>6900000</td>\n",
       "      <td>Islamabad</td>\n",
       "      <td>Islamabad Capital</td>\n",
       "      <td>33.700993</td>\n",
       "      <td>72.971492</td>\n",
       "      <td>3</td>\n",
       "      <td>For Sale</td>\n",
       "      <td>3</td>\n",
       "      <td>5.6</td>\n",
       "    </tr>\n",
       "    <tr>\n",
       "      <th>2</th>\n",
       "      <td>386513</td>\n",
       "      <td>764</td>\n",
       "      <td>House</td>\n",
       "      <td>16500000</td>\n",
       "      <td>Islamabad</td>\n",
       "      <td>Islamabad Capital</td>\n",
       "      <td>33.631486</td>\n",
       "      <td>72.926559</td>\n",
       "      <td>6</td>\n",
       "      <td>For Sale</td>\n",
       "      <td>5</td>\n",
       "      <td>8.0</td>\n",
       "    </tr>\n",
       "    <tr>\n",
       "      <th>3</th>\n",
       "      <td>656161</td>\n",
       "      <td>340</td>\n",
       "      <td>House</td>\n",
       "      <td>43500000</td>\n",
       "      <td>Islamabad</td>\n",
       "      <td>Islamabad Capital</td>\n",
       "      <td>33.707573</td>\n",
       "      <td>73.151199</td>\n",
       "      <td>4</td>\n",
       "      <td>For Sale</td>\n",
       "      <td>4</td>\n",
       "      <td>2.0</td>\n",
       "    </tr>\n",
       "    <tr>\n",
       "      <th>4</th>\n",
       "      <td>841645</td>\n",
       "      <td>3226</td>\n",
       "      <td>House</td>\n",
       "      <td>7000000</td>\n",
       "      <td>Islamabad</td>\n",
       "      <td>Islamabad Capital</td>\n",
       "      <td>33.492591</td>\n",
       "      <td>73.301339</td>\n",
       "      <td>3</td>\n",
       "      <td>For Sale</td>\n",
       "      <td>3</td>\n",
       "      <td>8.0</td>\n",
       "    </tr>\n",
       "    <tr>\n",
       "      <th>...</th>\n",
       "      <td>...</td>\n",
       "      <td>...</td>\n",
       "      <td>...</td>\n",
       "      <td>...</td>\n",
       "      <td>...</td>\n",
       "      <td>...</td>\n",
       "      <td>...</td>\n",
       "      <td>...</td>\n",
       "      <td>...</td>\n",
       "      <td>...</td>\n",
       "      <td>...</td>\n",
       "      <td>...</td>\n",
       "    </tr>\n",
       "    <tr>\n",
       "      <th>168441</th>\n",
       "      <td>17355248</td>\n",
       "      <td>6754</td>\n",
       "      <td>House</td>\n",
       "      <td>26500000</td>\n",
       "      <td>Karachi</td>\n",
       "      <td>Sindh</td>\n",
       "      <td>25.029909</td>\n",
       "      <td>67.137192</td>\n",
       "      <td>0</td>\n",
       "      <td>For Sale</td>\n",
       "      <td>6</td>\n",
       "      <td>9.6</td>\n",
       "    </tr>\n",
       "    <tr>\n",
       "      <th>168442</th>\n",
       "      <td>17355249</td>\n",
       "      <td>680</td>\n",
       "      <td>House</td>\n",
       "      <td>12500000</td>\n",
       "      <td>Karachi</td>\n",
       "      <td>Sindh</td>\n",
       "      <td>25.017951</td>\n",
       "      <td>67.136393</td>\n",
       "      <td>0</td>\n",
       "      <td>For Sale</td>\n",
       "      <td>3</td>\n",
       "      <td>8.0</td>\n",
       "    </tr>\n",
       "    <tr>\n",
       "      <th>168443</th>\n",
       "      <td>17355250</td>\n",
       "      <td>6757</td>\n",
       "      <td>House</td>\n",
       "      <td>27000000</td>\n",
       "      <td>Karachi</td>\n",
       "      <td>Sindh</td>\n",
       "      <td>25.015384</td>\n",
       "      <td>67.116330</td>\n",
       "      <td>0</td>\n",
       "      <td>For Sale</td>\n",
       "      <td>6</td>\n",
       "      <td>9.6</td>\n",
       "    </tr>\n",
       "    <tr>\n",
       "      <th>168444</th>\n",
       "      <td>17355251</td>\n",
       "      <td>6752</td>\n",
       "      <td>House</td>\n",
       "      <td>11000000</td>\n",
       "      <td>Karachi</td>\n",
       "      <td>Sindh</td>\n",
       "      <td>25.013265</td>\n",
       "      <td>67.120818</td>\n",
       "      <td>0</td>\n",
       "      <td>For Sale</td>\n",
       "      <td>3</td>\n",
       "      <td>7.8</td>\n",
       "    </tr>\n",
       "    <tr>\n",
       "      <th>168445</th>\n",
       "      <td>17355287</td>\n",
       "      <td>10045</td>\n",
       "      <td>House</td>\n",
       "      <td>9000000</td>\n",
       "      <td>Karachi</td>\n",
       "      <td>Sindh</td>\n",
       "      <td>25.113565</td>\n",
       "      <td>67.353811</td>\n",
       "      <td>3</td>\n",
       "      <td>For Sale</td>\n",
       "      <td>3</td>\n",
       "      <td>9.4</td>\n",
       "    </tr>\n",
       "  </tbody>\n",
       "</table>\n",
       "<p>168446 rows × 12 columns</p>\n",
       "</div>"
      ],
      "text/plain": [
       "        property_id  location_id property_type     price       city  \\\n",
       "0            237062         3325          Flat  10000000  Islamabad   \n",
       "1            346905         3236          Flat   6900000  Islamabad   \n",
       "2            386513          764         House  16500000  Islamabad   \n",
       "3            656161          340         House  43500000  Islamabad   \n",
       "4            841645         3226         House   7000000  Islamabad   \n",
       "...             ...          ...           ...       ...        ...   \n",
       "168441     17355248         6754         House  26500000    Karachi   \n",
       "168442     17355249          680         House  12500000    Karachi   \n",
       "168443     17355250         6757         House  27000000    Karachi   \n",
       "168444     17355251         6752         House  11000000    Karachi   \n",
       "168445     17355287        10045         House   9000000    Karachi   \n",
       "\n",
       "            province_name   latitude  longitude  baths   purpose  bedrooms  \\\n",
       "0       Islamabad Capital  33.679890  73.012640      2  For Sale         2   \n",
       "1       Islamabad Capital  33.700993  72.971492      3  For Sale         3   \n",
       "2       Islamabad Capital  33.631486  72.926559      6  For Sale         5   \n",
       "3       Islamabad Capital  33.707573  73.151199      4  For Sale         4   \n",
       "4       Islamabad Capital  33.492591  73.301339      3  For Sale         3   \n",
       "...                   ...        ...        ...    ...       ...       ...   \n",
       "168441              Sindh  25.029909  67.137192      0  For Sale         6   \n",
       "168442              Sindh  25.017951  67.136393      0  For Sale         3   \n",
       "168443              Sindh  25.015384  67.116330      0  For Sale         6   \n",
       "168444              Sindh  25.013265  67.120818      0  For Sale         3   \n",
       "168445              Sindh  25.113565  67.353811      3  For Sale         3   \n",
       "\n",
       "        Area Size  \n",
       "0             4.0  \n",
       "1             5.6  \n",
       "2             8.0  \n",
       "3             2.0  \n",
       "4             8.0  \n",
       "...           ...  \n",
       "168441        9.6  \n",
       "168442        8.0  \n",
       "168443        9.6  \n",
       "168444        7.8  \n",
       "168445        9.4  \n",
       "\n",
       "[168446 rows x 12 columns]"
      ]
     },
     "execution_count": 341,
     "metadata": {},
     "output_type": "execute_result"
    }
   ],
   "source": [
    "df"
   ]
  },
  {
   "cell_type": "code",
   "execution_count": 342,
   "id": "19a60d45",
   "metadata": {},
   "outputs": [
    {
     "name": "stdout",
     "output_type": "stream",
     "text": [
      "<class 'pandas.core.frame.DataFrame'>\n",
      "RangeIndex: 168446 entries, 0 to 168445\n",
      "Data columns (total 12 columns):\n",
      " #   Column         Non-Null Count   Dtype  \n",
      "---  ------         --------------   -----  \n",
      " 0   property_id    168446 non-null  int64  \n",
      " 1   location_id    168446 non-null  int64  \n",
      " 2   property_type  168446 non-null  object \n",
      " 3   price          168446 non-null  int64  \n",
      " 4   city           168446 non-null  object \n",
      " 5   province_name  168446 non-null  object \n",
      " 6   latitude       168446 non-null  float64\n",
      " 7   longitude      168446 non-null  float64\n",
      " 8   baths          168446 non-null  int64  \n",
      " 9   purpose        168446 non-null  object \n",
      " 10  bedrooms       168446 non-null  int64  \n",
      " 11  Area Size      168446 non-null  float64\n",
      "dtypes: float64(3), int64(5), object(4)\n",
      "memory usage: 15.4+ MB\n"
     ]
    }
   ],
   "source": [
    "df.info()"
   ]
  },
  {
   "cell_type": "code",
   "execution_count": 343,
   "id": "a7187720",
   "metadata": {},
   "outputs": [
    {
     "name": "stdout",
     "output_type": "stream",
     "text": [
      "<class 'pandas.core.frame.DataFrame'>\n",
      "RangeIndex: 168446 entries, 0 to 168445\n",
      "Data columns (total 10 columns):\n",
      " #   Column         Non-Null Count   Dtype  \n",
      "---  ------         --------------   -----  \n",
      " 0   property_type  168446 non-null  object \n",
      " 1   price          168446 non-null  int64  \n",
      " 2   city           168446 non-null  object \n",
      " 3   province_name  168446 non-null  object \n",
      " 4   latitude       168446 non-null  float64\n",
      " 5   longitude      168446 non-null  float64\n",
      " 6   baths          168446 non-null  int64  \n",
      " 7   purpose        168446 non-null  object \n",
      " 8   bedrooms       168446 non-null  int64  \n",
      " 9   Area Size      168446 non-null  float64\n",
      "dtypes: float64(3), int64(3), object(4)\n",
      "memory usage: 12.9+ MB\n"
     ]
    }
   ],
   "source": [
    "df.drop(columns = ['property_id', 'location_id'], inplace = True)\n",
    "df.info()"
   ]
  },
  {
   "cell_type": "code",
   "execution_count": 344,
   "id": "a30493d3",
   "metadata": {},
   "outputs": [
    {
     "data": {
      "text/plain": [
       "7838"
      ]
     },
     "execution_count": 344,
     "metadata": {},
     "output_type": "execute_result"
    }
   ],
   "source": [
    "len(df['latitude'].unique())"
   ]
  },
  {
   "cell_type": "code",
   "execution_count": 345,
   "id": "c5311d38",
   "metadata": {},
   "outputs": [
    {
     "data": {
      "text/plain": [
       "8316"
      ]
     },
     "execution_count": 345,
     "metadata": {},
     "output_type": "execute_result"
    }
   ],
   "source": [
    "len(df['longitude'].unique())"
   ]
  },
  {
   "cell_type": "code",
   "execution_count": 346,
   "id": "99eb2b6f",
   "metadata": {},
   "outputs": [
    {
     "name": "stdout",
     "output_type": "stream",
     "text": [
      "<class 'pandas.core.frame.DataFrame'>\n",
      "RangeIndex: 168446 entries, 0 to 168445\n",
      "Data columns (total 8 columns):\n",
      " #   Column         Non-Null Count   Dtype  \n",
      "---  ------         --------------   -----  \n",
      " 0   property_type  168446 non-null  object \n",
      " 1   price          168446 non-null  int64  \n",
      " 2   city           168446 non-null  object \n",
      " 3   province_name  168446 non-null  object \n",
      " 4   baths          168446 non-null  int64  \n",
      " 5   purpose        168446 non-null  object \n",
      " 6   bedrooms       168446 non-null  int64  \n",
      " 7   Area Size      168446 non-null  float64\n",
      "dtypes: float64(1), int64(3), object(4)\n",
      "memory usage: 10.3+ MB\n"
     ]
    }
   ],
   "source": [
    "df.drop(columns = ['latitude', 'longitude'], inplace = True)\n",
    "df.info()"
   ]
  },
  {
   "cell_type": "markdown",
   "id": "1ff4eca6",
   "metadata": {},
   "source": [
    "# Preprocess Numerical Columns\n",
    "### 1. Outliers\n",
    "### 2. Null Values\n",
    "in this case 3 columns, as 'price' is target column"
   ]
  },
  {
   "cell_type": "markdown",
   "id": "0864ed9b",
   "metadata": {},
   "source": [
    "## baths column"
   ]
  },
  {
   "cell_type": "code",
   "execution_count": 347,
   "id": "0ad2ee3a",
   "metadata": {},
   "outputs": [
    {
     "name": "stderr",
     "output_type": "stream",
     "text": [
      "C:\\ProgramData\\Anaconda3\\lib\\site-packages\\seaborn\\_decorators.py:36: FutureWarning: Pass the following variable as a keyword arg: x. From version 0.12, the only valid positional argument will be `data`, and passing other arguments without an explicit keyword will result in an error or misinterpretation.\n",
      "  warnings.warn(\n"
     ]
    },
    {
     "data": {
      "text/plain": [
       "<AxesSubplot:xlabel='baths'>"
      ]
     },
     "execution_count": 347,
     "metadata": {},
     "output_type": "execute_result"
    },
    {
     "data": {
      "image/png": "[encoded data removed]",
      "text/plain": [
       "<Figure size 432x288 with 1 Axes>"
      ]
     },
     "metadata": {
      "needs_background": "light"
     },
     "output_type": "display_data"
    }
   ],
   "source": [
    "import seaborn as sns\n",
    "\n",
    "sns.boxplot(df['baths'])"
   ]
  },
  {
   "cell_type": "code",
   "execution_count": 348,
   "id": "6505c79d",
   "metadata": {},
   "outputs": [
    {
     "data": {
      "text/plain": [
       "403"
      ]
     },
     "execution_count": 348,
     "metadata": {},
     "output_type": "execute_result"
    }
   ],
   "source": [
    "df['baths'].max()"
   ]
  },
  {
   "cell_type": "code",
   "execution_count": 349,
   "id": "945fc3d7",
   "metadata": {},
   "outputs": [
    {
     "name": "stdout",
     "output_type": "stream",
     "text": [
      "129605\n"
     ]
    }
   ],
   "source": [
    "for i,x in enumerate(df.baths):\n",
    "    if x == 403:\n",
    "        print(i)"
   ]
  },
  {
   "cell_type": "code",
   "execution_count": 350,
   "id": "c8e4b473",
   "metadata": {},
   "outputs": [],
   "source": [
    "df.drop(index = 129605, inplace = True)"
   ]
  },
  {
   "cell_type": "code",
   "execution_count": 351,
   "id": "9858474a",
   "metadata": {},
   "outputs": [],
   "source": [
    "df.to_csv('C://Users/Hafiz Saifullah/Documents/Datasets/zameen1.csv', index = False)"
   ]
  },
  {
   "cell_type": "code",
   "execution_count": 352,
   "id": "a0dda0e6",
   "metadata": {},
   "outputs": [],
   "source": [
    "df = pd.read_csv('C://Users/Hafiz Saifullah/Documents/Datasets/zameen1.csv')"
   ]
  },
  {
   "cell_type": "code",
   "execution_count": 353,
   "id": "a49697ac",
   "metadata": {},
   "outputs": [
    {
     "data": {
      "text/plain": [
       "14"
      ]
     },
     "execution_count": 353,
     "metadata": {},
     "output_type": "execute_result"
    }
   ],
   "source": [
    "df['baths'].max()"
   ]
  },
  {
   "cell_type": "code",
   "execution_count": 354,
   "id": "4b57119a",
   "metadata": {},
   "outputs": [
    {
     "data": {
      "text/plain": [
       "<AxesSubplot:xlabel='baths', ylabel='Count'>"
      ]
     },
     "execution_count": 354,
     "metadata": {},
     "output_type": "execute_result"
    },
    {
     "data": {
      "image/png": "[encoded data removed]",
      "text/plain": [
       "<Figure size 432x288 with 1 Axes>"
      ]
     },
     "metadata": {
      "needs_background": "light"
     },
     "output_type": "display_data"
    }
   ],
   "source": [
    "sns.histplot(df.baths)"
   ]
  },
  {
   "cell_type": "code",
   "execution_count": 355,
   "id": "f55b32d3",
   "metadata": {
    "scrolled": true
   },
   "outputs": [
    {
     "name": "stdout",
     "output_type": "stream",
     "text": [
      "Examples greater than 10: [11, 11, 13, 11, 12, 12, 12, 12, 13, 12, 12, 11, 12, 12, 12, 14, 14, 11, 13, 12, 14]\n",
      "\n",
      "Indexes of examples greater than 10: [8791, 19947, 89191, 89434, 96053, 111392, 112313, 114794, 123082, 135605, 136138, 140913, 149864, 150483, 153289, 153820, 153823, 155945, 157402, 158147, 159720]\n",
      "\n",
      "Sum of examples greater than 10: 21\n"
     ]
    }
   ],
   "source": [
    "# As only few examples are greater than 10,\n",
    "# we can indentify and drop them\n",
    "grt = []\n",
    "ind = []\n",
    "sum = 0\n",
    "for i,x in enumerate(df.baths):\n",
    "    if x > 10:\n",
    "        grt.append(x)\n",
    "        ind.append(i)\n",
    "        sum = sum+1\n",
    "        \n",
    "print(f'Examples greater than 10: {grt}\\n')\n",
    "print(f'Indexes of examples greater than 10: {ind}\\n')\n",
    "print(f'Sum of examples greater than 10: {sum}')"
   ]
  },
  {
   "cell_type": "code",
   "execution_count": 356,
   "id": "eb16bca0",
   "metadata": {},
   "outputs": [],
   "source": [
    "df.drop(index = ind, inplace = True)"
   ]
  },
  {
   "cell_type": "code",
   "execution_count": 368,
   "id": "3282518e",
   "metadata": {},
   "outputs": [],
   "source": [
    "df.to_csv('C://Users/Hafiz Saifullah/Documents/Datasets/zameen2.csv', index = False)"
   ]
  },
  {
   "cell_type": "code",
   "execution_count": 369,
   "id": "68644e2f",
   "metadata": {},
   "outputs": [],
   "source": [
    "df = pd.read_csv('C://Users/Hafiz Saifullah/Documents/Datasets/zameen2.csv')"
   ]
  },
  {
   "cell_type": "code",
   "execution_count": 370,
   "id": "afc4a811",
   "metadata": {},
   "outputs": [
    {
     "name": "stdout",
     "output_type": "stream",
     "text": [
      "Examples greater than 10: []\n",
      "\n",
      "Indexes of examples greater than 10: []\n",
      "\n",
      "Sum of examples greater than 10: 0\n"
     ]
    }
   ],
   "source": [
    "grt = []\n",
    "ind = []\n",
    "sum = 0\n",
    "for i,x in enumerate(df.baths):\n",
    "    if x > 10:\n",
    "        grt.append(x)\n",
    "        ind.append(i)\n",
    "        sum = sum+1\n",
    "        \n",
    "print(f'Examples greater than 10: {grt}\\n')\n",
    "print(f'Indexes of examples greater than 10: {ind}\\n')\n",
    "print(f'Sum of examples greater than 10: {sum}')"
   ]
  },
  {
   "cell_type": "code",
   "execution_count": 371,
   "id": "bbfb00f6",
   "metadata": {},
   "outputs": [
    {
     "name": "stderr",
     "output_type": "stream",
     "text": [
      "C:\\ProgramData\\Anaconda3\\lib\\site-packages\\seaborn\\_decorators.py:36: FutureWarning: Pass the following variable as a keyword arg: x. From version 0.12, the only valid positional argument will be `data`, and passing other arguments without an explicit keyword will result in an error or misinterpretation.\n",
      "  warnings.warn(\n"
     ]
    },
    {
     "data": {
      "text/plain": [
       "<AxesSubplot:xlabel='baths'>"
      ]
     },
     "execution_count": 371,
     "metadata": {},
     "output_type": "execute_result"
    },
    {
     "data": {
      "image/png": "[encoded data removed]",
      "text/plain": [
       "<Figure size 432x288 with 1 Axes>"
      ]
     },
     "metadata": {
      "needs_background": "light"
     },
     "output_type": "display_data"
    }
   ],
   "source": [
    "sns.boxplot(df['baths'])"
   ]
  },
  {
   "cell_type": "code",
   "execution_count": 372,
   "id": "ce8f9205",
   "metadata": {},
   "outputs": [
    {
     "data": {
      "text/plain": [
       "2.870689450434617"
      ]
     },
     "execution_count": 372,
     "metadata": {},
     "output_type": "execute_result"
    }
   ],
   "source": [
    "df.baths.mean()"
   ]
  },
  {
   "cell_type": "code",
   "execution_count": 373,
   "id": "3a7071ca",
   "metadata": {},
   "outputs": [
    {
     "data": {
      "text/plain": [
       "3.0"
      ]
     },
     "execution_count": 373,
     "metadata": {},
     "output_type": "execute_result"
    }
   ],
   "source": [
    "df.baths.median()"
   ]
  },
  {
   "cell_type": "code",
   "execution_count": 374,
   "id": "73cfa822",
   "metadata": {},
   "outputs": [
    {
     "data": {
      "text/plain": [
       "0"
      ]
     },
     "execution_count": 374,
     "metadata": {},
     "output_type": "execute_result"
    }
   ],
   "source": [
    "df.baths.isna().sum()\n",
    "# If had null values, we would replace with which? mean or Median?"
   ]
  },
  {
   "cell_type": "markdown",
   "id": "ce5fb607",
   "metadata": {},
   "source": [
    "# bedrooms column"
   ]
  },
  {
   "cell_type": "code",
   "execution_count": 375,
   "id": "d429348e",
   "metadata": {},
   "outputs": [
    {
     "name": "stderr",
     "output_type": "stream",
     "text": [
      "C:\\ProgramData\\Anaconda3\\lib\\site-packages\\seaborn\\_decorators.py:36: FutureWarning: Pass the following variable as a keyword arg: x. From version 0.12, the only valid positional argument will be `data`, and passing other arguments without an explicit keyword will result in an error or misinterpretation.\n",
      "  warnings.warn(\n"
     ]
    },
    {
     "data": {
      "text/plain": [
       "<AxesSubplot:xlabel='bedrooms'>"
      ]
     },
     "execution_count": 375,
     "metadata": {},
     "output_type": "execute_result"
    },
    {
     "data": {
      "image/png": "[encoded data removed]",
      "text/plain": [
       "<Figure size 432x288 with 1 Axes>"
      ]
     },
     "metadata": {
      "needs_background": "light"
     },
     "output_type": "display_data"
    }
   ],
   "source": [
    "sns.boxplot(df.bedrooms)"
   ]
  },
  {
   "cell_type": "code",
   "execution_count": 376,
   "id": "8931c56d",
   "metadata": {},
   "outputs": [
    {
     "data": {
      "text/plain": [
       "68"
      ]
     },
     "execution_count": 376,
     "metadata": {},
     "output_type": "execute_result"
    }
   ],
   "source": [
    "df.bedrooms.max()"
   ]
  },
  {
   "cell_type": "code",
   "execution_count": 377,
   "id": "97e324ad",
   "metadata": {},
   "outputs": [
    {
     "data": {
      "text/plain": [
       "3.178561250178122"
      ]
     },
     "execution_count": 377,
     "metadata": {},
     "output_type": "execute_result"
    }
   ],
   "source": [
    "df.bedrooms.mean()"
   ]
  },
  {
   "cell_type": "code",
   "execution_count": 378,
   "id": "ad094e3a",
   "metadata": {},
   "outputs": [
    {
     "data": {
      "text/plain": [
       "3.0"
      ]
     },
     "execution_count": 378,
     "metadata": {},
     "output_type": "execute_result"
    }
   ],
   "source": [
    "df.bedrooms.median()"
   ]
  },
  {
   "cell_type": "code",
   "execution_count": 379,
   "id": "11f59484",
   "metadata": {},
   "outputs": [
    {
     "data": {
      "text/plain": [
       "<AxesSubplot:xlabel='bedrooms', ylabel='Count'>"
      ]
     },
     "execution_count": 379,
     "metadata": {},
     "output_type": "execute_result"
    },
    {
     "data": {
      "image/png": "[encoded data removed]",
      "text/plain": [
       "<Figure size 432x288 with 1 Axes>"
      ]
     },
     "metadata": {
      "needs_background": "light"
     },
     "output_type": "display_data"
    }
   ],
   "source": [
    "sns.histplot(data = df, x = 'bedrooms')"
   ]
  },
  {
   "cell_type": "code",
   "execution_count": 380,
   "id": "7541e86c",
   "metadata": {},
   "outputs": [
    {
     "name": "stdout",
     "output_type": "stream",
     "text": [
      "Examples greater than 30: [68]\n",
      "\n",
      "Indexes of examples greater than 30: [140879]\n",
      "\n",
      "Sum of examples greater than 30: 1\n"
     ]
    }
   ],
   "source": [
    "grt =[]\n",
    "ind = []\n",
    "sum = 0\n",
    "\n",
    "for i,x in enumerate(df.bedrooms):\n",
    "    if x > 30:\n",
    "        grt.append(x)\n",
    "        ind.append(i)\n",
    "        sum = sum+1\n",
    "        \n",
    "print(f'Examples greater than 30: {grt}\\n')\n",
    "print(f'Indexes of examples greater than 30: {ind}\\n')\n",
    "print(f'Sum of examples greater than 30: {sum}')"
   ]
  },
  {
   "cell_type": "code",
   "execution_count": 381,
   "id": "a93a33ad",
   "metadata": {},
   "outputs": [],
   "source": [
    "df.drop(index = ind, inplace = True)"
   ]
  },
  {
   "cell_type": "code",
   "execution_count": 382,
   "id": "64bd51be",
   "metadata": {},
   "outputs": [],
   "source": [
    "df.to_csv('C://Users/Hafiz Saifullah/Documents/Datasets/zameen3.csv', index = False)"
   ]
  },
  {
   "cell_type": "code",
   "execution_count": 383,
   "id": "d5b82e7c",
   "metadata": {},
   "outputs": [],
   "source": [
    "df = pd.read_csv('C://Users/Hafiz Saifullah/Documents/Datasets/zameen3.csv')"
   ]
  },
  {
   "cell_type": "code",
   "execution_count": 384,
   "id": "fcecee8b",
   "metadata": {},
   "outputs": [
    {
     "name": "stderr",
     "output_type": "stream",
     "text": [
      "C:\\ProgramData\\Anaconda3\\lib\\site-packages\\seaborn\\_decorators.py:36: FutureWarning: Pass the following variable as a keyword arg: x. From version 0.12, the only valid positional argument will be `data`, and passing other arguments without an explicit keyword will result in an error or misinterpretation.\n",
      "  warnings.warn(\n"
     ]
    },
    {
     "data": {
      "text/plain": [
       "<AxesSubplot:xlabel='bedrooms'>"
      ]
     },
     "execution_count": 384,
     "metadata": {},
     "output_type": "execute_result"
    },
    {
     "data": {
      "image/png": "[encoded data removed]",
      "text/plain": [
       "<Figure size 432x288 with 1 Axes>"
      ]
     },
     "metadata": {
      "needs_background": "light"
     },
     "output_type": "display_data"
    }
   ],
   "source": [
    "sns.boxplot(df.bedrooms)"
   ]
  },
  {
   "cell_type": "code",
   "execution_count": 385,
   "id": "b64f1a85",
   "metadata": {},
   "outputs": [
    {
     "name": "stdout",
     "output_type": "stream",
     "text": [
      "Examples greater than 30: []\n",
      "\n",
      "Indexes of examples greater than 30: []\n",
      "\n",
      "Sum of examples greater than 30: 0\n"
     ]
    }
   ],
   "source": [
    "grt =[]\n",
    "ind = []\n",
    "sum = 0\n",
    "\n",
    "for i,x in enumerate(df.bedrooms):\n",
    "    if x > 30:\n",
    "        grt.append(x)\n",
    "        ind.append(i)\n",
    "        sum = sum+1\n",
    "        \n",
    "print(f'Examples greater than 30: {grt}\\n')\n",
    "print(f'Indexes of examples greater than 30: {ind}\\n')\n",
    "print(f'Sum of examples greater than 30: {sum}')"
   ]
  },
  {
   "cell_type": "code",
   "execution_count": 386,
   "id": "dd1c79e8",
   "metadata": {},
   "outputs": [
    {
     "data": {
      "text/plain": [
       "<AxesSubplot:xlabel='bedrooms', ylabel='Count'>"
      ]
     },
     "execution_count": 386,
     "metadata": {},
     "output_type": "execute_result"
    },
    {
     "data": {
      "image/png": "[encoded data removed]",
      "text/plain": [
       "<Figure size 432x288 with 1 Axes>"
      ]
     },
     "metadata": {
      "needs_background": "light"
     },
     "output_type": "display_data"
    }
   ],
   "source": [
    "sns.histplot(data = df, x = 'bedrooms')"
   ]
  },
  {
   "cell_type": "code",
   "execution_count": 391,
   "id": "686ffeb7",
   "metadata": {},
   "outputs": [
    {
     "data": {
      "text/plain": [
       "22"
      ]
     },
     "execution_count": 391,
     "metadata": {},
     "output_type": "execute_result"
    }
   ],
   "source": [
    "len(df.bedrooms.unique())"
   ]
  },
  {
   "cell_type": "code",
   "execution_count": 397,
   "id": "cfdcc767",
   "metadata": {},
   "outputs": [
    {
     "data": {
      "text/plain": [
       "array([ 0,  1,  2,  3,  4,  5,  6,  7,  8,  9, 10, 11, 12, 13, 14, 15, 16,\n",
       "       18, 21, 25, 27, 28], dtype=int64)"
      ]
     },
     "execution_count": 397,
     "metadata": {},
     "output_type": "execute_result"
    }
   ],
   "source": [
    "import numpy as np\n",
    "\n",
    "np.sort(df.bedrooms.unique())"
   ]
  },
  {
   "cell_type": "code",
   "execution_count": 406,
   "id": "06d27941",
   "metadata": {},
   "outputs": [
    {
     "name": "stdout",
     "output_type": "stream",
     "text": [
      "Examples greater than 0: [16, 18, 18, 16, 16, 28, 25, 21, 16, 28, 25, 27, 25, 28, 28]\n",
      "\n",
      "Indexes of examples greater than 30: [16143, 28975, 69348, 86305, 95567, 120067, 129548, 130122, 131208, 139726, 144404, 144823, 151993, 164693, 164694]\n",
      "\n",
      "Sum of examples greater than 30: 15\n"
     ]
    }
   ],
   "source": [
    "grt =[]\n",
    "ind = []\n",
    "sum = 0\n",
    "\n",
    "for i,x in enumerate(df.bedrooms):\n",
    "    if x > 15:\n",
    "        grt.append(x)\n",
    "        ind.append(i)\n",
    "        sum = sum+1\n",
    "        \n",
    "print(f'Examples greater than 0: {grt}\\n')\n",
    "print(f'Indexes of examples greater than 30: {ind}\\n')\n",
    "print(f'Sum of examples greater than 30: {sum}')"
   ]
  },
  {
   "cell_type": "code",
   "execution_count": null,
   "id": "cebfbf06",
   "metadata": {},
   "outputs": [],
   "source": []
  }
 ],
 "metadata": {
  "kernelspec": {
   "display_name": "Python 3 (ipykernel)",
   "language": "python",
   "name": "python3"
  },
  "language_info": {
   "codemirror_mode": {
    "name": "ipython",
    "version": 3
   },
   "file_extension": ".py",
   "mimetype": "text/x-python",
   "name": "python",
   "nbconvert_exporter": "python",
   "pygments_lexer": "ipython3",
   "version": "3.9.7"
  }
 },
 "nbformat": 4,
 "nbformat_minor": 5
}
